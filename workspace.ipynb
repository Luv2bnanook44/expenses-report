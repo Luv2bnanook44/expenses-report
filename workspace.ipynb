{
 "cells": [
  {
   "cell_type": "markdown",
   "metadata": {},
   "source": [
    "# Expenses Report\n",
    "\n",
    "Courtesy of David Doowat"
   ]
  },
  {
   "cell_type": "code",
   "execution_count": 1,
   "metadata": {},
   "outputs": [],
   "source": [
    "import pandas as pd\n",
    "import numpy as np\n",
    "import matplotlib.pyplot as plt\n",
    "import seaborn as sns"
   ]
  },
  {
   "cell_type": "code",
   "execution_count": 2,
   "metadata": {},
   "outputs": [],
   "source": [
    "data1 = pd.read_csv('expenses-1.CSV')"
   ]
  },
  {
   "cell_type": "code",
   "execution_count": 3,
   "metadata": {},
   "outputs": [
    {
     "data": {
      "text/html": [
       "<div>\n",
       "<style scoped>\n",
       "    .dataframe tbody tr th:only-of-type {\n",
       "        vertical-align: middle;\n",
       "    }\n",
       "\n",
       "    .dataframe tbody tr th {\n",
       "        vertical-align: top;\n",
       "    }\n",
       "\n",
       "    .dataframe thead th {\n",
       "        text-align: right;\n",
       "    }\n",
       "</style>\n",
       "<table border=\"1\" class=\"dataframe\">\n",
       "  <thead>\n",
       "    <tr style=\"text-align: right;\">\n",
       "      <th></th>\n",
       "      <th>Transaction Date</th>\n",
       "      <th>Post Date</th>\n",
       "      <th>Description</th>\n",
       "      <th>Category</th>\n",
       "      <th>Type</th>\n",
       "      <th>Amount</th>\n",
       "      <th>Memo</th>\n",
       "    </tr>\n",
       "  </thead>\n",
       "  <tbody>\n",
       "    <tr>\n",
       "      <th>0</th>\n",
       "      <td>05/29/2021</td>\n",
       "      <td>05/31/2021</td>\n",
       "      <td>MEIJER # 182</td>\n",
       "      <td>Groceries</td>\n",
       "      <td>Sale</td>\n",
       "      <td>-15.58</td>\n",
       "      <td>NaN</td>\n",
       "    </tr>\n",
       "    <tr>\n",
       "      <th>1</th>\n",
       "      <td>05/30/2021</td>\n",
       "      <td>05/31/2021</td>\n",
       "      <td>BLUE GOOSE SUPERMAR</td>\n",
       "      <td>Groceries</td>\n",
       "      <td>Sale</td>\n",
       "      <td>-108.97</td>\n",
       "      <td>NaN</td>\n",
       "    </tr>\n",
       "    <tr>\n",
       "      <th>2</th>\n",
       "      <td>05/30/2021</td>\n",
       "      <td>05/31/2021</td>\n",
       "      <td>LOWES #01738*</td>\n",
       "      <td>Home</td>\n",
       "      <td>Sale</td>\n",
       "      <td>-9.48</td>\n",
       "      <td>NaN</td>\n",
       "    </tr>\n",
       "    <tr>\n",
       "      <th>3</th>\n",
       "      <td>05/30/2021</td>\n",
       "      <td>05/31/2021</td>\n",
       "      <td>7-ELEVEN 33850</td>\n",
       "      <td>Gas</td>\n",
       "      <td>Sale</td>\n",
       "      <td>-8.63</td>\n",
       "      <td>NaN</td>\n",
       "    </tr>\n",
       "    <tr>\n",
       "      <th>4</th>\n",
       "      <td>05/29/2021</td>\n",
       "      <td>05/30/2021</td>\n",
       "      <td>DD/BR #352499</td>\n",
       "      <td>Food &amp; Drink</td>\n",
       "      <td>Sale</td>\n",
       "      <td>-9.15</td>\n",
       "      <td>NaN</td>\n",
       "    </tr>\n",
       "  </tbody>\n",
       "</table>\n",
       "</div>"
      ],
      "text/plain": [
       "  Transaction Date   Post Date          Description      Category  Type  \\\n",
       "0       05/29/2021  05/31/2021         MEIJER # 182     Groceries  Sale   \n",
       "1       05/30/2021  05/31/2021  BLUE GOOSE SUPERMAR     Groceries  Sale   \n",
       "2       05/30/2021  05/31/2021        LOWES #01738*          Home  Sale   \n",
       "3       05/30/2021  05/31/2021       7-ELEVEN 33850           Gas  Sale   \n",
       "4       05/29/2021  05/30/2021        DD/BR #352499  Food & Drink  Sale   \n",
       "\n",
       "   Amount  Memo  \n",
       "0  -15.58   NaN  \n",
       "1 -108.97   NaN  \n",
       "2   -9.48   NaN  \n",
       "3   -8.63   NaN  \n",
       "4   -9.15   NaN  "
      ]
     },
     "execution_count": 3,
     "metadata": {},
     "output_type": "execute_result"
    }
   ],
   "source": [
    "data1.head()"
   ]
  },
  {
   "cell_type": "code",
   "execution_count": 4,
   "metadata": {},
   "outputs": [
    {
     "data": {
      "text/plain": [
       "0     5\n",
       "1     5\n",
       "2     5\n",
       "3     5\n",
       "4     5\n",
       "     ..\n",
       "74    4\n",
       "75    3\n",
       "76    3\n",
       "77    3\n",
       "78    3\n",
       "Name: month, Length: 79, dtype: int64"
      ]
     },
     "execution_count": 4,
     "metadata": {},
     "output_type": "execute_result"
    }
   ],
   "source": [
    "data1['month'] = data1['Transaction Date'].apply(lambda x: int(x[:2]))\n",
    "data1['month']"
   ]
  },
  {
   "cell_type": "code",
   "execution_count": 5,
   "metadata": {},
   "outputs": [],
   "source": [
    "data1['Amount'] = data1['Amount'].apply(abs)"
   ]
  },
  {
   "cell_type": "code",
   "execution_count": 6,
   "metadata": {
    "scrolled": true
   },
   "outputs": [
    {
     "data": {
      "text/plain": [
       "<AxesSubplot:xlabel='Category'>"
      ]
     },
     "execution_count": 6,
     "metadata": {},
     "output_type": "execute_result"
    },
    {
     "data": {
      "image/png": "[encoded data removed]",
      "text/plain": [
       "<Figure size 432x288 with 1 Axes>"
      ]
     },
     "metadata": {
      "needs_background": "light"
     },
     "output_type": "display_data"
    }
   ],
   "source": [
    "data1[['Amount', 'Category']].groupby('Category').sum().sort_values(by='Amount').plot(kind='bar')"
   ]
  },
  {
   "cell_type": "code",
   "execution_count": 7,
   "metadata": {},
   "outputs": [],
   "source": [
    "data1.Description = data1.Description.apply(lambda x: x.lower())"
   ]
  },
  {
   "cell_type": "code",
   "execution_count": 8,
   "metadata": {},
   "outputs": [
    {
     "data": {
      "text/plain": [
       "<AxesSubplot:xlabel='month'>"
      ]
     },
     "execution_count": 8,
     "metadata": {},
     "output_type": "execute_result"
    },
    {
     "data": {
      "image/png": "[encoded data removed]",
      "text/plain": [
       "<Figure size 432x288 with 1 Axes>"
      ]
     },
     "metadata": {
      "needs_background": "light"
     },
     "output_type": "display_data"
    }
   ],
   "source": [
    "data1[['Amount', 'month']].groupby('month').sum().sort_values(by='Amount').plot(kind='bar')\n",
    "\n"
   ]
  },
  {
   "cell_type": "code",
   "execution_count": 9,
   "metadata": {},
   "outputs": [
    {
     "data": {
      "text/html": [
       "<div>\n",
       "<style scoped>\n",
       "    .dataframe tbody tr th:only-of-type {\n",
       "        vertical-align: middle;\n",
       "    }\n",
       "\n",
       "    .dataframe tbody tr th {\n",
       "        vertical-align: top;\n",
       "    }\n",
       "\n",
       "    .dataframe thead th {\n",
       "        text-align: right;\n",
       "    }\n",
       "</style>\n",
       "<table border=\"1\" class=\"dataframe\">\n",
       "  <thead>\n",
       "    <tr style=\"text-align: right;\">\n",
       "      <th></th>\n",
       "      <th>Transaction Date</th>\n",
       "      <th>Post Date</th>\n",
       "      <th>Description</th>\n",
       "      <th>Category</th>\n",
       "      <th>Type</th>\n",
       "      <th>Amount</th>\n",
       "      <th>Memo</th>\n",
       "      <th>month</th>\n",
       "    </tr>\n",
       "  </thead>\n",
       "  <tbody>\n",
       "    <tr>\n",
       "      <th>0</th>\n",
       "      <td>05/29/2021</td>\n",
       "      <td>05/31/2021</td>\n",
       "      <td>meijer # 182</td>\n",
       "      <td>Groceries</td>\n",
       "      <td>Sale</td>\n",
       "      <td>15.58</td>\n",
       "      <td>NaN</td>\n",
       "      <td>5</td>\n",
       "    </tr>\n",
       "    <tr>\n",
       "      <th>1</th>\n",
       "      <td>05/30/2021</td>\n",
       "      <td>05/31/2021</td>\n",
       "      <td>blue goose supermar</td>\n",
       "      <td>Groceries</td>\n",
       "      <td>Sale</td>\n",
       "      <td>108.97</td>\n",
       "      <td>NaN</td>\n",
       "      <td>5</td>\n",
       "    </tr>\n",
       "    <tr>\n",
       "      <th>2</th>\n",
       "      <td>05/30/2021</td>\n",
       "      <td>05/31/2021</td>\n",
       "      <td>lowes #01738*</td>\n",
       "      <td>Home</td>\n",
       "      <td>Sale</td>\n",
       "      <td>9.48</td>\n",
       "      <td>NaN</td>\n",
       "      <td>5</td>\n",
       "    </tr>\n",
       "    <tr>\n",
       "      <th>3</th>\n",
       "      <td>05/30/2021</td>\n",
       "      <td>05/31/2021</td>\n",
       "      <td>7-eleven 33850</td>\n",
       "      <td>Gas</td>\n",
       "      <td>Sale</td>\n",
       "      <td>8.63</td>\n",
       "      <td>NaN</td>\n",
       "      <td>5</td>\n",
       "    </tr>\n",
       "    <tr>\n",
       "      <th>4</th>\n",
       "      <td>05/29/2021</td>\n",
       "      <td>05/30/2021</td>\n",
       "      <td>dd/br #352499</td>\n",
       "      <td>Food &amp; Drink</td>\n",
       "      <td>Sale</td>\n",
       "      <td>9.15</td>\n",
       "      <td>NaN</td>\n",
       "      <td>5</td>\n",
       "    </tr>\n",
       "    <tr>\n",
       "      <th>...</th>\n",
       "      <td>...</td>\n",
       "      <td>...</td>\n",
       "      <td>...</td>\n",
       "      <td>...</td>\n",
       "      <td>...</td>\n",
       "      <td>...</td>\n",
       "      <td>...</td>\n",
       "      <td>...</td>\n",
       "    </tr>\n",
       "    <tr>\n",
       "      <th>74</th>\n",
       "      <td>04/02/2021</td>\n",
       "      <td>04/04/2021</td>\n",
       "      <td>icp*goldfish swim school</td>\n",
       "      <td>Education</td>\n",
       "      <td>Sale</td>\n",
       "      <td>280.00</td>\n",
       "      <td>NaN</td>\n",
       "      <td>4</td>\n",
       "    </tr>\n",
       "    <tr>\n",
       "      <th>75</th>\n",
       "      <td>03/31/2021</td>\n",
       "      <td>04/02/2021</td>\n",
       "      <td>meijer # 182</td>\n",
       "      <td>Groceries</td>\n",
       "      <td>Sale</td>\n",
       "      <td>127.85</td>\n",
       "      <td>NaN</td>\n",
       "      <td>3</td>\n",
       "    </tr>\n",
       "    <tr>\n",
       "      <th>76</th>\n",
       "      <td>03/31/2021</td>\n",
       "      <td>04/01/2021</td>\n",
       "      <td>amzn mktp us*hs1ax0273</td>\n",
       "      <td>Shopping</td>\n",
       "      <td>Sale</td>\n",
       "      <td>29.50</td>\n",
       "      <td>NaN</td>\n",
       "      <td>3</td>\n",
       "    </tr>\n",
       "    <tr>\n",
       "      <th>77</th>\n",
       "      <td>03/30/2021</td>\n",
       "      <td>04/01/2021</td>\n",
       "      <td>amazon.com*c18q21mn3</td>\n",
       "      <td>Shopping</td>\n",
       "      <td>Sale</td>\n",
       "      <td>11.82</td>\n",
       "      <td>NaN</td>\n",
       "      <td>3</td>\n",
       "    </tr>\n",
       "    <tr>\n",
       "      <th>78</th>\n",
       "      <td>03/30/2021</td>\n",
       "      <td>04/01/2021</td>\n",
       "      <td>meijer # 182</td>\n",
       "      <td>Groceries</td>\n",
       "      <td>Sale</td>\n",
       "      <td>4.67</td>\n",
       "      <td>NaN</td>\n",
       "      <td>3</td>\n",
       "    </tr>\n",
       "  </tbody>\n",
       "</table>\n",
       "<p>79 rows × 8 columns</p>\n",
       "</div>"
      ],
      "text/plain": [
       "   Transaction Date   Post Date               Description      Category  Type  \\\n",
       "0        05/29/2021  05/31/2021              meijer # 182     Groceries  Sale   \n",
       "1        05/30/2021  05/31/2021       blue goose supermar     Groceries  Sale   \n",
       "2        05/30/2021  05/31/2021             lowes #01738*          Home  Sale   \n",
       "3        05/30/2021  05/31/2021            7-eleven 33850           Gas  Sale   \n",
       "4        05/29/2021  05/30/2021             dd/br #352499  Food & Drink  Sale   \n",
       "..              ...         ...                       ...           ...   ...   \n",
       "74       04/02/2021  04/04/2021  icp*goldfish swim school     Education  Sale   \n",
       "75       03/31/2021  04/02/2021              meijer # 182     Groceries  Sale   \n",
       "76       03/31/2021  04/01/2021    amzn mktp us*hs1ax0273      Shopping  Sale   \n",
       "77       03/30/2021  04/01/2021      amazon.com*c18q21mn3      Shopping  Sale   \n",
       "78       03/30/2021  04/01/2021              meijer # 182     Groceries  Sale   \n",
       "\n",
       "    Amount  Memo  month  \n",
       "0    15.58   NaN      5  \n",
       "1   108.97   NaN      5  \n",
       "2     9.48   NaN      5  \n",
       "3     8.63   NaN      5  \n",
       "4     9.15   NaN      5  \n",
       "..     ...   ...    ...  \n",
       "74  280.00   NaN      4  \n",
       "75  127.85   NaN      3  \n",
       "76   29.50   NaN      3  \n",
       "77   11.82   NaN      3  \n",
       "78    4.67   NaN      3  \n",
       "\n",
       "[79 rows x 8 columns]"
      ]
     },
     "execution_count": 9,
     "metadata": {},
     "output_type": "execute_result"
    }
   ],
   "source": [
    "data1"
   ]
  },
  {
   "cell_type": "code",
   "execution_count": 77,
   "metadata": {},
   "outputs": [],
   "source": [
    "def expense_types_by_month(data, kind='bar'):\n",
    "    '''returns a stacked bar chart grouping expenses by month and category'''\n",
    "\n",
    "    categories = data['Category'].value_counts().index\n",
    "    margin_bottom = np.zeros(len(data['month'].drop_duplicates()))\n",
    "\n",
    "    if kind=='bar':\n",
    "        fig, ax = plt.subplots(figsize=(10,7))   \n",
    "        \n",
    "        for num, category in enumerate(categories):\n",
    "            values = list(data[data['Category']==category][['Amount', 'month']].groupby('month').sum().sort_values(by='month').values.reshape(1,-1)[0])\n",
    "\n",
    "            if len(values)==0:\n",
    "                dollars = [0,0,0]\n",
    "            elif len(values)==1:\n",
    "                dollars = [0,0] + values \n",
    "            elif len(values)==2:\n",
    "                dollars = [0] + values\n",
    "            elif len(values)==3:\n",
    "                dollars = values\n",
    "            else:\n",
    "                print(\"We have a problem here\", values)\n",
    "\n",
    "            ax.bar(x=[\"March\", 'April', 'May'], height=dollars, bottom=margin_bottom, label=category)\n",
    "\n",
    "            margin_bottom += dollars\n",
    "            \n",
    "        ax.legend()\n",
    "        ax.set_ylabel('Amount Spent (Dollars)')\n",
    "        ax.set_xlabel('Month')\n",
    "        ax.set_title('Expenses by Month & Category', size=20)\n",
    "\n",
    "    \n",
    "    if kind=='pie':\n",
    "        fig, ax = plt.subplots(nrows=1, ncols=3, figsize=(15,6))  \n",
    "        \n",
    "        for num, month in enumerate(sorted(data['month'].value_counts().index)):\n",
    "            values = list(data[data['month']==month][['Amount', 'Category']].groupby('Category').sum().values.reshape(1,-1)[0])\n",
    "            labels = data[data['month']==month][['Amount', 'Category']].groupby('Category').sum().index\n",
    "            ax[num].pie(values, labels=labels, autopct='%1.1f%%')\n",
    "        \n",
    "        fig.suptitle('Expenses by Month & Category', size=20)\n",
    "        fig.tight_layout()\n"
   ]
  },
  {
   "cell_type": "code",
   "execution_count": 70,
   "metadata": {
    "scrolled": true
   },
   "outputs": [
    {
     "data": {
      "image/png": "[encoded data removed]",
      "text/plain": [
       "<Figure size 720x504 with 1 Axes>"
      ]
     },
     "metadata": {
      "needs_background": "light"
     },
     "output_type": "display_data"
    }
   ],
   "source": [
    "expense_types_by_month(data1)"
   ]
  },
  {
   "cell_type": "code",
   "execution_count": 78,
   "metadata": {
    "scrolled": false
   },
   "outputs": [
    {
     "data": {
      "image/png": "[encoded data removed]",
      "text/plain": [
       "<Figure size 1080x432 with 3 Axes>"
      ]
     },
     "metadata": {},
     "output_type": "display_data"
    }
   ],
   "source": [
    "expense_types_by_month(data1, kind='pie')"
   ]
  },
  {
   "cell_type": "code",
   "execution_count": 61,
   "metadata": {
    "scrolled": true
   },
   "outputs": [
    {
     "data": {
      "text/html": [
       "<div>\n",
       "<style scoped>\n",
       "    .dataframe tbody tr th:only-of-type {\n",
       "        vertical-align: middle;\n",
       "    }\n",
       "\n",
       "    .dataframe tbody tr th {\n",
       "        vertical-align: top;\n",
       "    }\n",
       "\n",
       "    .dataframe thead th {\n",
       "        text-align: right;\n",
       "    }\n",
       "</style>\n",
       "<table border=\"1\" class=\"dataframe\">\n",
       "  <thead>\n",
       "    <tr style=\"text-align: right;\">\n",
       "      <th></th>\n",
       "      <th>Amount</th>\n",
       "    </tr>\n",
       "    <tr>\n",
       "      <th>Category</th>\n",
       "      <th></th>\n",
       "    </tr>\n",
       "  </thead>\n",
       "  <tbody>\n",
       "    <tr>\n",
       "      <th>Bills &amp; Utilities</th>\n",
       "      <td>997.76</td>\n",
       "    </tr>\n",
       "    <tr>\n",
       "      <th>Education</th>\n",
       "      <td>460.00</td>\n",
       "    </tr>\n",
       "    <tr>\n",
       "      <th>Food &amp; Drink</th>\n",
       "      <td>140.74</td>\n",
       "    </tr>\n",
       "    <tr>\n",
       "      <th>Gas</th>\n",
       "      <td>8.63</td>\n",
       "    </tr>\n",
       "    <tr>\n",
       "      <th>Gifts &amp; Donations</th>\n",
       "      <td>80.00</td>\n",
       "    </tr>\n",
       "    <tr>\n",
       "      <th>Groceries</th>\n",
       "      <td>2012.00</td>\n",
       "    </tr>\n",
       "    <tr>\n",
       "      <th>Health &amp; Wellness</th>\n",
       "      <td>24.52</td>\n",
       "    </tr>\n",
       "    <tr>\n",
       "      <th>Home</th>\n",
       "      <td>90.87</td>\n",
       "    </tr>\n",
       "    <tr>\n",
       "      <th>Professional Services</th>\n",
       "      <td>1.99</td>\n",
       "    </tr>\n",
       "    <tr>\n",
       "      <th>Shopping</th>\n",
       "      <td>1291.81</td>\n",
       "    </tr>\n",
       "    <tr>\n",
       "      <th>Travel</th>\n",
       "      <td>11.56</td>\n",
       "    </tr>\n",
       "  </tbody>\n",
       "</table>\n",
       "</div>"
      ],
      "text/plain": [
       "                        Amount\n",
       "Category                      \n",
       "Bills & Utilities       997.76\n",
       "Education               460.00\n",
       "Food & Drink            140.74\n",
       "Gas                       8.63\n",
       "Gifts & Donations        80.00\n",
       "Groceries              2012.00\n",
       "Health & Wellness        24.52\n",
       "Home                     90.87\n",
       "Professional Services     1.99\n",
       "Shopping               1291.81\n",
       "Travel                   11.56"
      ]
     },
     "execution_count": 61,
     "metadata": {},
     "output_type": "execute_result"
    }
   ],
   "source": [
    "data1[['Amount', 'Category']].groupby('Category').sum()"
   ]
  },
  {
   "cell_type": "code",
   "execution_count": 113,
   "metadata": {},
   "outputs": [],
   "source": [
    "def desc_sorter(desc):\n",
    "    '''Sorts expenses based on store titles'''\n",
    "    chars = '*#.0123456789'\n",
    "\n",
    "    for i in range(len(desc)):\n",
    "        if desc[i] in chars:\n",
    "            desc = desc[:i]\n",
    "            break"
   ]
  },
  {
   "cell_type": "code",
   "execution_count": 100,
   "metadata": {},
   "outputs": [
    {
     "data": {
      "text/plain": [
       "meijer # 182                 22\n",
       "angelo caputo's fre           3\n",
       "automatic payment - thank     2\n",
       "icp*goldfish swim school      2\n",
       "the fresh market 059          2\n",
       "amzn mktp us                  2\n",
       "city of st. charles           2\n",
       "blue goose supermar           2\n",
       "sprint *wireless              2\n",
       "st patrick church             2\n",
       "lowes #01738*                 2\n",
       "walgreens #6795               2\n",
       "dairy queen #15200            1\n",
       "audible*2r0ss94n2             1\n",
       "amzn mktp us*az9ro3i43        1\n",
       "frankys red hots              1\n",
       "amazon.com*c18q21mn3          1\n",
       "7-eleven 33850                1\n",
       "amazon.com*2p2jg51x3          1\n",
       "amzn mktp us*t93pa8c53        1\n",
       "amzn mktp us*986od8rq3        1\n",
       "lakeshore recycling syst      1\n",
       "amazon.com*2r7lj5zl2          1\n",
       "amzn mktp us*2r49z1ct1        1\n",
       "kindle unltd*td1we2203        1\n",
       "amazon.com*n46s530e3          1\n",
       "amzn mktp us*2l5zi1600        1\n",
       "amzn mktp us*ky02f6ad3        1\n",
       "amzn mktp us*hs1ax0273        1\n",
       "chipotle 3849                 1\n",
       "amzn mktp us*ae6fw2r83        1\n",
       "kindle unltd*2r0mp37j1        1\n",
       "amazon.com*2l6gx3v12          1\n",
       "audible*ah9nn7m13             1\n",
       "google *google storage        1\n",
       "amzn mktp us*2l7c74602        1\n",
       "amazon.com*jt3rh0pi3          1\n",
       "google*google storage         1\n",
       "chipotle online               1\n",
       "amazon.com*2r2898hj2          1\n",
       "amzn mktp us*2l1ri88c0        1\n",
       "lyft   *1 ride 04-14          1\n",
       "amazon.com*ud0jf7op3          1\n",
       "amazon.com*rr6h278s3          1\n",
       "dd/br #352499                 1\n",
       "amzn mktp us*2l1z397e0        1\n",
       "Name: Description, dtype: int64"
      ]
     },
     "execution_count": 100,
     "metadata": {},
     "output_type": "execute_result"
    }
   ],
   "source": [
    "data1.Description.value_counts()"
   ]
  },
  {
   "cell_type": "code",
   "execution_count": null,
   "metadata": {},
   "outputs": [],
   "source": []
  }
 ],
 "metadata": {
  "kernelspec": {
   "display_name": "Python 3",
   "language": "python",
   "name": "python3"
  },
  "language_info": {
   "codemirror_mode": {
    "name": "ipython",
    "version": 3
   },
   "file_extension": ".py",
   "mimetype": "text/x-python",
   "name": "python",
   "nbconvert_exporter": "python",
   "pygments_lexer": "ipython3",
   "version": "3.8.5"
  }
 },
 "nbformat": 4,
 "nbformat_minor": 4
}
