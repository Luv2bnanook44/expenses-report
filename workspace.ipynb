{
 "cells": [
  {
   "cell_type": "markdown",
   "metadata": {},
   "source": [
    "# Expenses Report\n",
    "\n",
    "Courtesy of David Doowat"
   ]
  },
  {
   "cell_type": "code",
   "execution_count": 2,
   "metadata": {},
   "outputs": [],
   "source": [
    "import pandas as pd\n",
    "import numpy as np\n",
    "import matplotlib.pyplot as plt\n",
    "import seaborn as sns"
   ]
  },
  {
   "cell_type": "code",
   "execution_count": 3,
   "metadata": {},
   "outputs": [],
   "source": [
    "data1 = pd.read_csv('expenses-1.CSV')"
   ]
  },
  {
   "cell_type": "code",
   "execution_count": 5,
   "metadata": {},
   "outputs": [
    {
     "data": {
      "text/html": [
       "<div>\n",
       "<style scoped>\n",
       "    .dataframe tbody tr th:only-of-type {\n",
       "        vertical-align: middle;\n",
       "    }\n",
       "\n",
       "    .dataframe tbody tr th {\n",
       "        vertical-align: top;\n",
       "    }\n",
       "\n",
       "    .dataframe thead th {\n",
       "        text-align: right;\n",
       "    }\n",
       "</style>\n",
       "<table border=\"1\" class=\"dataframe\">\n",
       "  <thead>\n",
       "    <tr style=\"text-align: right;\">\n",
       "      <th></th>\n",
       "      <th>Transaction Date</th>\n",
       "      <th>Post Date</th>\n",
       "      <th>Description</th>\n",
       "      <th>Category</th>\n",
       "      <th>Type</th>\n",
       "      <th>Amount</th>\n",
       "      <th>Memo</th>\n",
       "    </tr>\n",
       "  </thead>\n",
       "  <tbody>\n",
       "    <tr>\n",
       "      <th>0</th>\n",
       "      <td>05/29/2021</td>\n",
       "      <td>05/31/2021</td>\n",
       "      <td>MEIJER # 182</td>\n",
       "      <td>Groceries</td>\n",
       "      <td>Sale</td>\n",
       "      <td>-15.58</td>\n",
       "      <td>NaN</td>\n",
       "    </tr>\n",
       "    <tr>\n",
       "      <th>1</th>\n",
       "      <td>05/30/2021</td>\n",
       "      <td>05/31/2021</td>\n",
       "      <td>BLUE GOOSE SUPERMAR</td>\n",
       "      <td>Groceries</td>\n",
       "      <td>Sale</td>\n",
       "      <td>-108.97</td>\n",
       "      <td>NaN</td>\n",
       "    </tr>\n",
       "    <tr>\n",
       "      <th>2</th>\n",
       "      <td>05/30/2021</td>\n",
       "      <td>05/31/2021</td>\n",
       "      <td>LOWES #01738*</td>\n",
       "      <td>Home</td>\n",
       "      <td>Sale</td>\n",
       "      <td>-9.48</td>\n",
       "      <td>NaN</td>\n",
       "    </tr>\n",
       "    <tr>\n",
       "      <th>3</th>\n",
       "      <td>05/30/2021</td>\n",
       "      <td>05/31/2021</td>\n",
       "      <td>7-ELEVEN 33850</td>\n",
       "      <td>Gas</td>\n",
       "      <td>Sale</td>\n",
       "      <td>-8.63</td>\n",
       "      <td>NaN</td>\n",
       "    </tr>\n",
       "    <tr>\n",
       "      <th>4</th>\n",
       "      <td>05/29/2021</td>\n",
       "      <td>05/30/2021</td>\n",
       "      <td>DD/BR #352499</td>\n",
       "      <td>Food &amp; Drink</td>\n",
       "      <td>Sale</td>\n",
       "      <td>-9.15</td>\n",
       "      <td>NaN</td>\n",
       "    </tr>\n",
       "  </tbody>\n",
       "</table>\n",
       "</div>"
      ],
      "text/plain": [
       "  Transaction Date   Post Date          Description      Category  Type  \\\n",
       "0       05/29/2021  05/31/2021         MEIJER # 182     Groceries  Sale   \n",
       "1       05/30/2021  05/31/2021  BLUE GOOSE SUPERMAR     Groceries  Sale   \n",
       "2       05/30/2021  05/31/2021        LOWES #01738*          Home  Sale   \n",
       "3       05/30/2021  05/31/2021       7-ELEVEN 33850           Gas  Sale   \n",
       "4       05/29/2021  05/30/2021        DD/BR #352499  Food & Drink  Sale   \n",
       "\n",
       "   Amount  Memo  \n",
       "0  -15.58   NaN  \n",
       "1 -108.97   NaN  \n",
       "2   -9.48   NaN  \n",
       "3   -8.63   NaN  \n",
       "4   -9.15   NaN  "
      ]
     },
     "execution_count": 5,
     "metadata": {},
     "output_type": "execute_result"
    }
   ],
   "source": [
    "data1.head()"
   ]
  },
  {
   "cell_type": "code",
   "execution_count": 12,
   "metadata": {},
   "outputs": [],
   "source": [
    "data1['Amount'] = data1['Amount'].apply(abs)"
   ]
  },
  {
   "cell_type": "code",
   "execution_count": 13,
   "metadata": {},
   "outputs": [
    {
     "data": {
      "text/plain": [
       "<AxesSubplot:xlabel='Category'>"
      ]
     },
     "execution_count": 13,
     "metadata": {},
     "output_type": "execute_result"
    },
    {
     "data": {
      "image/png": "[encoded data removed]",
      "text/plain": [
       "<Figure size 432x288 with 1 Axes>"
      ]
     },
     "metadata": {
      "needs_background": "light"
     },
     "output_type": "display_data"
    }
   ],
   "source": [
    "data1[['Amount', 'Category']].groupby('Category').sum().plot(kind='bar')"
   ]
  },
  {
   "cell_type": "code",
   "execution_count": null,
   "metadata": {},
   "outputs": [],
   "source": []
  }
 ],
 "metadata": {
  "kernelspec": {
   "display_name": "Python 3",
   "language": "python",
   "name": "python3"
  },
  "language_info": {
   "codemirror_mode": {
    "name": "ipython",
    "version": 3
   },
   "file_extension": ".py",
   "mimetype": "text/x-python",
   "name": "python",
   "nbconvert_exporter": "python",
   "pygments_lexer": "ipython3",
   "version": "3.8.5"
  }
 },
 "nbformat": 4,
 "nbformat_minor": 4
}
